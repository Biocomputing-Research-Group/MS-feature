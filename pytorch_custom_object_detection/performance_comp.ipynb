{
 "cells": [
  {
   "cell_type": "code",
   "execution_count": 6,
   "metadata": {
    "collapsed": true
   },
   "outputs": [
    {
     "name": "stdout",
     "output_type": "stream",
     "text": [
      "93 116\n",
      "97 98\n",
      "163 209\n",
      "99 95\n",
      "139 166\n",
      "105 155\n",
      "20 28\n"
     ]
    }
   ],
   "source": [
    "import numpy\n",
    "import pandas as pd\n",
    "# this compare the number of detections by our model and mq, can be done in excel\n",
    "df = pd.read_csv('detection_comparison.csv')\n",
    "str = ['PXD006096-lungcancer-2', 'PXD006096-lungcancer-1', 'B20190306xiangn_CRCD_DIA_b3_3', 'PXD006096-lungcancer-3', 'PXD010357-lungcancer-Huara', 'PXD010357-lungcancer-20', 'PXD010357-lungcancer-19']\n",
    "mq_l, pred_l = [], []\n",
    "for s in str:\n",
    "    mq, pred = 0,0\n",
    "    for _, val in df.iterrows():\n",
    "        if s in val['filename']:\n",
    "            mq+=val['maxquant']\n",
    "            pred+=val['predictions']\n",
    "    print(mq, pred)\n",
    "    mq_l.append(mq)\n",
    "    pred_l.append(pred)\n",
    "pd.DataFrame.from_dict({'filename':str, 'mq':mq_l, 'pred': pred_l}).to_csv('predictions_in_files.csv')"
   ]
  },
  {
   "cell_type": "code",
   "execution_count": null,
   "outputs": [],
   "source": [],
   "metadata": {
    "collapsed": false,
    "pycharm": {
     "name": "#%%\n"
    }
   }
  }
 ],
 "metadata": {
  "kernelspec": {
   "display_name": "Python 3",
   "language": "python",
   "name": "python3"
  },
  "language_info": {
   "codemirror_mode": {
    "name": "ipython",
    "version": 2
   },
   "file_extension": ".py",
   "mimetype": "text/x-python",
   "name": "python",
   "nbconvert_exporter": "python",
   "pygments_lexer": "ipython2",
   "version": "2.7.6"
  }
 },
 "nbformat": 4,
 "nbformat_minor": 0
}