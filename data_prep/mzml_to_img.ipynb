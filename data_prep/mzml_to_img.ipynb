{
 "cells": [
  {
   "cell_type": "code",
   "execution_count": 1,
   "metadata": {
    "collapsed": true,
    "pycharm": {
     "name": "#%%\n"
    }
   },
   "outputs": [
    {
     "name": "stdout",
     "output_type": "stream",
     "text": [
      "['.DS_Store', 'PXD010357-lungcancer-20.mzML', 'PXD010357-lungcancer-19.mzML']\n"
     ]
    }
   ],
   "source": [
    "# this notebook effectively does the same thing as \"mzml_to_img.py\" file, but in a notebook format\n",
    "import sys\n",
    "from decoder import *\n",
    "import numpy as np\n",
    "import time\n",
    "from tqdm import tqdm\n",
    "import cv2\n",
    "# import matplotlib.pyplot as plt\n",
    "import os\n",
    "import math\n",
    "file_name = os.listdir('src')\n",
    "print(file_name)\n",
    "s = input(\"index of file to process particular one: \")\n",
    "if s != 'a':\n",
    "    file_name = file_name[int(s)]"
   ]
  },
  {
   "cell_type": "code",
   "execution_count": 2,
   "outputs": [
    {
     "name": "stdout",
     "output_type": "stream",
     "text": [
      "starting to process file src/PXD010357-lungcancer-19.mzML\n",
      "reading file...\n",
      "parsing file...\n"
     ]
    },
    {
     "name": "stderr",
     "output_type": "stream",
     "text": [
      "100%|██████████| 41660/41660 [00:52<00:00, 796.64it/s] \n"
     ]
    },
    {
     "name": "stdout",
     "output_type": "stream",
     "text": [
      "initializing min and max...\n"
     ]
    }
   ],
   "source": [
    "file_path = 'src/'+file_name\n",
    "t = time.time()\n",
    "print(f'starting to process file {file_path}')\n",
    "\n",
    "# decode the xml file and store the information in 'result', a list of 'spectrum' objects\n",
    "listMz, listIn, listRt = decode(file_path)\n",
    "\n",
    "# setting width and height, this can be any number we set\n",
    "\n",
    "print('initializing min and max...')\n",
    "min_mz = min([np.amin(e) for e in listMz])\n",
    "max_mz = max([np.amax(e) for e in listMz])\n",
    "min_rt = listRt[0]\n",
    "max_rt = listRt[len(listRt)-1]\n",
    "\n",
    "# adjust width and height here, bigger width and height yields higher resolution\n",
    "# width and height must be an int\n",
    "WIDTH = int(10*(max_mz - min_mz))\n",
    "HEIGHT = int(len(listRt)/3)"
   ],
   "metadata": {
    "collapsed": false,
    "pycharm": {
     "name": "#%%\n"
    }
   }
  },
  {
   "cell_type": "code",
   "execution_count": 35,
   "outputs": [
    {
     "name": "stdout",
     "output_type": "stream",
     "text": [
      "converting spectra to 2d img...\n",
      "intensities: 1841302912.0 0.0\n"
     ]
    }
   ],
   "source": [
    "print('converting spectra to 2d img...')\n",
    "# initialize img1 as a 2d array specified height and width\n",
    "img = np.zeros((HEIGHT, WIDTH))\n",
    "#listMz = [((e-min_mz)/(max_mz-min_mz)*(WIDTH-1)).astype('int') for e in tqdm(listMz)]\n",
    "#listRt = ((np.array(listRt)-min_rt)/(max_rt-min_rt)*(HEIGHT-1)).astype('int')\n",
    "for x_list, y, inten_list in zip(listMz, listRt, listIn):\n",
    "    # print(img.shape, inten_list.shape)\n",
    "    img[y, x_list] += inten_list\n",
    "\n",
    "min_intensity = np.amin(img)\n",
    "max_intensity = np.amax(img)\n",
    "print('intensities:', max_intensity, min_intensity)"
   ],
   "metadata": {
    "collapsed": false,
    "pycharm": {
     "name": "#%%\n"
    }
   }
  },
  {
   "cell_type": "code",
   "execution_count": 36,
   "outputs": [],
   "source": [
    "max_intensity/=500\n",
    "img = np.clip(img, 0, max_intensity)"
   ],
   "metadata": {
    "collapsed": false,
    "pycharm": {
     "name": "#%%\n"
    }
   }
  },
  {
   "cell_type": "code",
   "execution_count": 37,
   "outputs": [
    {
     "name": "stdout",
     "output_type": "stream",
     "text": [
      "transforming intensities...\n",
      "image save status:True\n"
     ]
    }
   ],
   "source": [
    "from scipy.special import logit\n",
    "print('transforming intensities...')\n",
    "img = (img - min_intensity) / (max_intensity - min_intensity) * 0.98 + 0.01\n",
    "img = logit(img)\n",
    "min_intensity = np.amin(img)\n",
    "max_intensity = np.amax(img)\n",
    "img = (img - min_intensity) / (max_intensity - min_intensity)\n",
    "# img = np.tanh(5*img)\n",
    "img *= 255\n",
    "img = img.astype('int')\n",
    "\n",
    "file_name = file_name.split('.')[0]\n",
    "# LOOK HERE output is saved in the numpy array format in the misc folder and in image format in the img1 folder\n",
    "np.save('misc/'+file_name+'_misc', np.array([max_rt, min_rt, max_mz, min_mz]))\n",
    "print(\"image save status:\" + str(cv2.imwrite('img1/' + file_name + \".png\", img)))"
   ],
   "metadata": {
    "collapsed": false,
    "pycharm": {
     "name": "#%%\n"
    }
   }
  }
 ],
 "metadata": {
  "kernelspec": {
   "display_name": "Python 3",
   "language": "python",
   "name": "python3"
  },
  "language_info": {
   "codemirror_mode": {
    "name": "ipython",
    "version": 2
   },
   "file_extension": ".py",
   "mimetype": "text/x-python",
   "name": "python",
   "nbconvert_exporter": "python",
   "pygments_lexer": "ipython2",
   "version": "2.7.6"
  }
 },
 "nbformat": 4,
 "nbformat_minor": 0
}