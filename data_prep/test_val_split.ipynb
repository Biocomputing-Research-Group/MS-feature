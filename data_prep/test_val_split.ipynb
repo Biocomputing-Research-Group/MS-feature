{
 "cells": [
  {
   "cell_type": "code",
   "execution_count": 1,
   "metadata": {
    "collapsed": true
   },
   "outputs": [
    {
     "name": "stdout",
     "output_type": "stream",
     "text": [
      "Requirement already satisfied: sklearn in /Users/mac/Desktop/Research/venv/lib/python3.8/site-packages (0.0)\r\n",
      "Requirement already satisfied: scikit-learn in /Users/mac/Desktop/Research/venv/lib/python3.8/site-packages (from sklearn) (1.0.2)\r\n",
      "Requirement already satisfied: joblib>=0.11 in /Users/mac/Desktop/Research/venv/lib/python3.8/site-packages (from scikit-learn->sklearn) (1.1.0)\r\n",
      "Requirement already satisfied: scipy>=1.1.0 in /Users/mac/Desktop/Research/venv/lib/python3.8/site-packages (from scikit-learn->sklearn) (1.8.0)\r\n",
      "Requirement already satisfied: numpy>=1.14.6 in /Users/mac/Desktop/Research/venv/lib/python3.8/site-packages (from scikit-learn->sklearn) (1.22.2)\r\n",
      "Requirement already satisfied: threadpoolctl>=2.0.0 in /Users/mac/Desktop/Research/venv/lib/python3.8/site-packages (from scikit-learn->sklearn) (3.1.0)\r\n",
      "\u001B[33mWARNING: You are using pip version 21.1.2; however, version 22.1.1 is available.\r\n",
      "You should consider upgrading via the '/Users/mac/Desktop/Research/venv/bin/Python -m pip install --upgrade pip' command.\u001B[0m\r\n",
      "0 767\n"
     ]
    }
   ],
   "source": [
    "import os\n",
    "import random\n",
    "import shlex\n",
    "\n",
    "import pandas as pd\n",
    "import sys\n",
    "!{sys.executable} -m pip install sklearn\n",
    "# the file takes all the windows in dir_name folder, randomly splits them, and add them into the train and val folder\n",
    "# also saves the list of annotated boxes in train_labels and validation csv\n",
    "dir_name = 'img3/' # modify this variable to the name of the input folder\n",
    "names = os.listdir(dir_name)\n",
    "random.shuffle(names)\n",
    "\n",
    "# split represents the proportion of the test dataset\n",
    "split = .2\n",
    "val_names = names[:int(len(names)*split)]\n",
    "train_names = names[int(len(names)*split):]\n",
    "print(len(train_names), len(val_names))"
   ]
  },
  {
   "cell_type": "code",
   "execution_count": 2,
   "outputs": [],
   "source": [
    "import shutil\n",
    "for file in os.listdir(dir_name):\n",
    "    if file in train_names:\n",
    "        shutil.copyfile(dir_name + file, 'train/' + file)\n",
    "    else:\n",
    "        shutil.copyfile(dir_name + file, 'val/' + file)"
   ],
   "metadata": {
    "collapsed": false,
    "pycharm": {
     "name": "#%%\n"
    }
   }
  },
  {
   "cell_type": "code",
   "execution_count": 3,
   "outputs": [
    {
     "name": "stdout",
     "output_type": "stream",
     "text": [
      "['PXD006096-lungcancer-3_10_4.jpg', 'PXD006096-lungcancer-1_15_4+.jpg', 'PXD006096-lungcancer-1_25_17+.jpg', 'PXD006096-lungcancer-1_12_11.jpg', 'PXD006096-lungcancer-3_15_19.jpg', 'PXD006096-lungcancer-1_17_5+.jpg', 'PXD006096-lungcancer-3_14_12+.jpg', 'PXD006096-lungcancer-3_12_7+.jpg', 'PXD006096-lungcancer-3_22_9.jpg', 'PXD006096-lungcancer-1_16_8.jpg', 'PXD006096-lungcancer-3_29_11+.jpg', 'PXD006096-lungcancer-3_21_21.jpg', 'PXD006096-lungcancer-3_19_20+.jpg', 'PXD006096-lungcancer-1_17_6.jpg', 'PXD006096-lungcancer-1_14_13.jpg', 'PXD006096-lungcancer-1_14_3+.jpg', 'PXD006096-lungcancer-3_25_11.jpg', 'PXD006096-lungcancer-1_31_13.jpg', 'PXD006096-lungcancer-3_19_14+.jpg', 'PXD006096-lungcancer-3_20_14.jpg', 'PXD006096-lungcancer-3_22_11.jpg', 'PXD006096-lungcancer-3_24_9+.jpg', 'PXD006096-lungcancer-3_30_14.jpg', 'PXD006096-lungcancer-1_12_10.jpg', 'PXD006096-lungcancer-3_24_17.jpg', 'PXD006096-lungcancer-3_19_9+.jpg', 'PXD006096-lungcancer-3_29_16.jpg', 'PXD006096-lungcancer-3_14_20+.jpg', 'PXD006096-lungcancer-3_13_12.jpg', 'PXD006096-lungcancer-3_18_10+.jpg', 'PXD006096-lungcancer-1_22_11.jpg', 'PXD006096-lungcancer-3_20_18+.jpg', 'PXD006096-lungcancer-3_12_8+.jpg', 'PXD006096-lungcancer-3_17_19+.jpg', 'PXD006096-lungcancer-3_14_14.jpg', 'PXD006096-lungcancer-3_14_14+.jpg', 'PXD006096-lungcancer-3_30_14+.jpg', 'PXD006096-lungcancer-3_22_21+.jpg', 'PXD006096-lungcancer-1_19_12.jpg', 'PXD006096-lungcancer-1_14_8+.jpg', 'PXD006096-lungcancer-1_11_8+.jpg', 'PXD006096-lungcancer-3_9_19.jpg', 'PXD006096-lungcancer-3_10_7+.jpg', 'PXD006096-lungcancer-3_17_12.jpg', 'PXD006096-lungcancer-1_14_10.jpg', 'PXD006096-lungcancer-1_16_14.jpg', 'PXD006096-lungcancer-3_13_11.jpg', 'PXD006096-lungcancer-3_15_19+.jpg', 'PXD006096-lungcancer-3_11_9.jpg', 'PXD006096-lungcancer-1_24_17.jpg', 'PXD006096-lungcancer-1_24_15+.jpg', 'PXD006096-lungcancer-1_18_6.jpg', 'PXD006096-lungcancer-1_14_5.jpg', 'PXD006096-lungcancer-1_25_18.jpg', 'PXD006096-lungcancer-1_17_6+.jpg', 'PXD006096-lungcancer-1_21_18+.jpg', 'PXD006096-lungcancer-1_11_20.jpg', 'PXD006096-lungcancer-1_22_12.jpg', 'PXD006096-lungcancer-1_18_20.jpg', 'PXD006096-lungcancer-3_17_21+.jpg', 'PXD006096-lungcancer-1_10_8.jpg', 'PXD006096-lungcancer-1_10_20.jpg', 'PXD006096-lungcancer-1_16_11.jpg', 'PXD006096-lungcancer-1_21_11+.jpg', 'PXD006096-lungcancer-1_13_9.jpg', 'PXD006096-lungcancer-3_22_9+.jpg', 'PXD006096-lungcancer-3_20_13.jpg', 'PXD006096-lungcancer-1_9_20.jpg', 'PXD006096-lungcancer-1_19_17.jpg', 'PXD006096-lungcancer-3_21_11+.jpg', 'PXD006096-lungcancer-1_23_9+.jpg', 'PXD006096-lungcancer-1_13_4+.jpg', 'PXD006096-lungcancer-1_24_16+.jpg', 'PXD006096-lungcancer-3_17_21.jpg', 'PXD006096-lungcancer-1_23_13+.jpg', 'PXD006096-lungcancer-1_13_6+.jpg', 'PXD006096-lungcancer-1_11_20+.jpg', 'PXD006096-lungcancer-3_22_14+.jpg', 'PXD006096-lungcancer-1_15_14.jpg', 'PXD006096-lungcancer-3_23_12+.jpg', 'PXD006096-lungcancer-1_25_12.jpg', 'PXD006096-lungcancer-1_18_9.jpg', 'PXD006096-lungcancer-3_17_10+.jpg', 'PXD006096-lungcancer-3_13_5+.jpg', 'PXD006096-lungcancer-1_14_20.jpg', 'PXD006096-lungcancer-3_10_7.jpg', 'PXD006096-lungcancer-1_26_13.jpg', 'PXD006096-lungcancer-3_29_11.jpg', 'PXD006096-lungcancer-1_20_17+.jpg', 'PXD006096-lungcancer-3_26_13+.jpg', 'PXD006096-lungcancer-1_16_12.jpg', 'PXD006096-lungcancer-3_10_9+.jpg', 'PXD006096-lungcancer-1_10_7+.jpg', 'PXD006096-lungcancer-3_25_12.jpg', 'PXD006096-lungcancer-1_10_14+.jpg', 'PXD006096-lungcancer-1_17_14.jpg', 'PXD006096-lungcancer-3_26_11.jpg', 'PXD006096-lungcancer-1_19_7+.jpg', 'PXD006096-lungcancer-1_24_12+.jpg', 'PXD006096-lungcancer-3_17_20+.jpg', 'PXD006096-lungcancer-3_18_12.jpg', 'PXD006096-lungcancer-1_32_15.jpg', 'PXD006096-lungcancer-1_20_18+.jpg', 'PXD006096-lungcancer-3_21_9+.jpg', 'PXD006096-lungcancer-3_31_18+.jpg', 'PXD006096-lungcancer-3_19_12.jpg', 'PXD006096-lungcancer-1_14_6.jpg', 'PXD006096-lungcancer-1_14_9+.jpg', 'PXD006096-lungcancer-1_10_21.jpg', 'PXD006096-lungcancer-3_25_13+.jpg', 'PXD006096-lungcancer-1_34_14.jpg', 'PXD006096-lungcancer-3_12_4+.jpg', 'PXD006096-lungcancer-1_24_14+.jpg', 'PXD006096-lungcancer-3_19_20.jpg', 'PXD006096-lungcancer-1_12_8+.jpg', 'PXD006096-lungcancer-1_12_19+.jpg', 'PXD006096-lungcancer-1_9_5.jpg', 'PXD006096-lungcancer-3_11_19+.jpg', 'PXD006096-lungcancer-1_13_9+.jpg', 'PXD006096-lungcancer-1_20_8.jpg', 'PXD006096-lungcancer-3_16_13+.jpg', 'PXD006096-lungcancer-1_28_12+.jpg', 'PXD006096-lungcancer-3_28_10+.jpg', 'PXD006096-lungcancer-1_21_11.jpg', 'PXD006096-lungcancer-1_19_11.jpg', 'PXD006096-lungcancer-1_14_11.jpg', 'PXD006096-lungcancer-1_20_17.jpg', 'PXD006096-lungcancer-1_15_21+.jpg', 'PXD006096-lungcancer-1_30_14.jpg', 'PXD006096-lungcancer-3_18_9.jpg', 'PXD006096-lungcancer-3_22_11+.jpg', 'PXD006096-lungcancer-1_14_15.jpg', 'PXD006096-lungcancer-1_24_13.jpg', 'PXD006096-lungcancer-3_21_10+.jpg', 'PXD006096-lungcancer-3_19_10.jpg', 'PXD006096-lungcancer-3_14_21.jpg', 'PXD006096-lungcancer-1_16_9.jpg', 'PXD006096-lungcancer-1_21_16+.jpg', 'PXD006096-lungcancer-3_24_10+.jpg', 'PXD006096-lungcancer-3_24_16+.jpg', 'PXD006096-lungcancer-3_18_11.jpg', 'PXD006096-lungcancer-3_26_11+.jpg', 'PXD006096-lungcancer-3_23_10.jpg', 'PXD006096-lungcancer-1_22_13+.jpg', 'PXD006096-lungcancer-3_9_19+.jpg', 'PXD006096-lungcancer-1_23_17+.jpg', 'PXD006096-lungcancer-3_11_4.jpg', 'PXD006096-lungcancer-3_9_10.jpg', 'PXD006096-lungcancer-3_14_7+.jpg', 'PXD006096-lungcancer-3_10_14.jpg', 'PXD006096-lungcancer-1_29_10+.jpg', 'PXD006096-lungcancer-1_29_16.jpg', 'PXD006096-lungcancer-3_10_8.jpg', 'PXD006096-lungcancer-1_28_12.jpg', 'PXD006096-lungcancer-1_17_20.jpg', 'PXD006096-lungcancer-3_26_16.jpg', 'PXD006096-lungcancer-1_20_9+.jpg', 'PXD006096-lungcancer-3_18_19+.jpg', 'PXD006096-lungcancer-3_9_5.jpg', 'PXD006096-lungcancer-1_10_5+.jpg', 'PXD006096-lungcancer-3_11_12+.jpg', 'PXD006096-lungcancer-3_34_14+.jpg', 'PXD006096-lungcancer-1_16_11+.jpg', 'PXD006096-lungcancer-1_23_12+.jpg', 'PXD006096-lungcancer-1_22_8+.jpg', 'PXD006096-lungcancer-1_25_17.jpg', 'PXD006096-lungcancer-1_11_5.jpg', 'PXD006096-lungcancer-3_15_20.jpg', 'PXD006096-lungcancer-1_22_12+.jpg', 'PXD006096-lungcancer-1_15_21.jpg', 'PXD006096-lungcancer-1_22_10+.jpg', 'PXD006096-lungcancer-3_23_17.jpg', 'PXD006096-lungcancer-3_24_10.jpg', 'PXD006096-lungcancer-3_19_9.jpg', 'PXD006096-lungcancer-1_14_14+.jpg', 'PXD006096-lungcancer-1_14_19+.jpg', 'PXD006096-lungcancer-1_26_16+.jpg', 'PXD006096-lungcancer-3_19_11.jpg', 'PXD006096-lungcancer-3_22_15+.jpg', 'PXD006096-lungcancer-1_12_8.jpg', 'PXD006096-lungcancer-1_33_10.jpg', 'PXD006096-lungcancer-1_21_16.jpg', 'PXD006096-lungcancer-3_29_13.jpg', 'PXD006096-lungcancer-3_16_12.jpg', 'PXD006096-lungcancer-1_15_5+.jpg', 'PXD006096-lungcancer-1_10_14.jpg', 'PXD006096-lungcancer-3_16_20.jpg', 'PXD006096-lungcancer-1_25_12+.jpg', 'PXD006096-lungcancer-1_10_20+.jpg', 'PXD006096-lungcancer-1_15_20+.jpg', 'PXD006096-lungcancer-3_27_13+.jpg', 'PXD006096-lungcancer-1_14_9.jpg', 'PXD006096-lungcancer-1_25_9.jpg', 'PXD006096-lungcancer-1_17_9+.jpg', 'PXD006096-lungcancer-1_15_11+.jpg', 'PXD006096-lungcancer-1_27_13+.jpg', 'PXD006096-lungcancer-3_29_12+.jpg', 'PXD006096-lungcancer-1_15_14+.jpg', 'PXD006096-lungcancer-3_16_20+.jpg', 'PXD006096-lungcancer-1_14_12.jpg', 'PXD006096-lungcancer-3_21_13+.jpg', 'PXD006096-lungcancer-3_21_11.jpg', 'PXD006096-lungcancer-3_19_10+.jpg', 'PXD006096-lungcancer-3_12_10.jpg', 'PXD006096-lungcancer-3_26_10+.jpg', 'PXD006096-lungcancer-1_12_6.jpg', 'PXD006096-lungcancer-3_19_8+.jpg', 'PXD006096-lungcancer-1_16_7.jpg', 'PXD006096-lungcancer-3_25_12+.jpg', 'PXD006096-lungcancer-3_24_11.jpg', 'PXD006096-lungcancer-3_23_15.jpg', 'PXD006096-lungcancer-1_25_11+.jpg', 'PXD006096-lungcancer-3_13_21+.jpg', 'PXD006096-lungcancer-1_12_6+.jpg', 'PXD006096-lungcancer-1_14_21+.jpg', 'PXD006096-lungcancer-1_23_8.jpg', 'PXD006096-lungcancer-1_20_9.jpg', 'PXD006096-lungcancer-1_13_6.jpg', 'PXD006096-lungcancer-1_16_8+.jpg', 'PXD006096-lungcancer-1_14_10+.jpg', 'PXD006096-lungcancer-1_32_17+.jpg', 'PXD006096-lungcancer-1_19_13+.jpg', 'PXD006096-lungcancer-3_35_15+.jpg', 'PXD006096-lungcancer-3_14_13.jpg', 'PXD006096-lungcancer-3_15_10+.jpg', 'PXD006096-lungcancer-3_10_21+.jpg', 'PXD006096-lungcancer-3_24_14+.jpg', 'PXD006096-lungcancer-3_20_9.jpg', 'PXD006096-lungcancer-1_9_10.jpg', 'PXD006096-lungcancer-3_20_21.jpg', 'PXD006096-lungcancer-1_20_20+.jpg', 'PXD006096-lungcancer-1_19_20+.jpg', 'PXD006096-lungcancer-3_15_9.jpg', 'PXD006096-lungcancer-3_29_9+.jpg', 'PXD006096-lungcancer-3_22_8+.jpg', 'PXD006096-lungcancer-3_21_14.jpg', 'PXD006096-lungcancer-1_10_4+.jpg', 'PXD006096-lungcancer-1_23_10+.jpg', 'PXD006096-lungcancer-3_14_10.jpg', 'PXD006096-lungcancer-3_13_9+.jpg', 'PXD006096-lungcancer-3_13_4.jpg', 'PXD006096-lungcancer-3_13_6+.jpg', 'PXD006096-lungcancer-1_11_3+.jpg', 'PXD006096-lungcancer-1_18_10+.jpg', 'PXD006096-lungcancer-1_26_14+.jpg', 'PXD006096-lungcancer-3_19_13.jpg', 'PXD006096-lungcancer-3_32_17+.jpg', 'PXD006096-lungcancer-1_10_10.jpg', 'PXD006096-lungcancer-1_20_21+.jpg', 'PXD006096-lungcancer-1_17_11.jpg', 'PXD006096-lungcancer-3_17_10.jpg', 'PXD006096-lungcancer-3_15_6.jpg', 'PXD006096-lungcancer-1_10_21+.jpg', 'PXD006096-lungcancer-1_13_12.jpg', 'PXD006096-lungcancer-1_11_4+.jpg', 'PXD006096-lungcancer-3_18_19.jpg', 'PXD006096-lungcancer-3_28_9+.jpg', 'PXD006096-lungcancer-3_17_18+.jpg', 'PXD006096-lungcancer-3_23_8.jpg', 'PXD006096-lungcancer-3_23_17+.jpg', 'PXD006096-lungcancer-3_13_8.jpg', 'PXD006096-lungcancer-3_17_12+.jpg', 'PXD006096-lungcancer-1_28_14.jpg', 'PXD006096-lungcancer-1_13_21+.jpg', 'PXD006096-lungcancer-3_22_8.jpg', 'PXD006096-lungcancer-3_17_8.jpg', 'PXD006096-lungcancer-1_25_14.jpg', 'PXD006096-lungcancer-1_31_9.jpg', 'PXD006096-lungcancer-3_15_9+.jpg', 'PXD006096-lungcancer-1_21_13+.jpg', 'PXD006096-lungcancer-3_27_14+.jpg', 'PXD006096-lungcancer-1_16_4+.jpg', 'PXD006096-lungcancer-3_18_21.jpg', 'PXD006096-lungcancer-3_11_6.jpg', 'PXD006096-lungcancer-1_12_21+.jpg', 'PXD006096-lungcancer-1_19_21+.jpg', 'PXD006096-lungcancer-1_20_16.jpg', 'PXD006096-lungcancer-3_20_17.jpg', 'PXD006096-lungcancer-3_19_13+.jpg', 'PXD006096-lungcancer-3_15_6+.jpg', 'PXD006096-lungcancer-3_16_7.jpg', 'PXD006096-lungcancer-3_11_19.jpg', 'PXD006096-lungcancer-3_29_10+.jpg', 'PXD006096-lungcancer-3_21_5+.jpg', 'PXD006096-lungcancer-1_15_12+.jpg', 'PXD006096-lungcancer-3_19_4.jpg', 'PXD006096-lungcancer-1_21_9.jpg', 'PXD006096-lungcancer-1_20_14+.jpg', 'PXD006096-lungcancer-3_13_11+.jpg', 'PXD006096-lungcancer-3_22_10+.jpg', 'PXD006096-lungcancer-1_23_9.jpg', 'PXD006096-lungcancer-1_18_9+.jpg', 'PXD006096-lungcancer-3_21_9.jpg', 'PXD006096-lungcancer-1_18_19+.jpg', 'PXD006096-lungcancer-3_21_14+.jpg', 'PXD006096-lungcancer-1_12_5+.jpg', 'PXD006096-lungcancer-1_19_16.jpg', 'PXD006096-lungcancer-1_19_12+.jpg', 'PXD006096-lungcancer-1_11_5+.jpg', 'PXD006096-lungcancer-1_26_13+.jpg', 'PXD006096-lungcancer-1_19_13.jpg', 'PXD006096-lungcancer-3_14_5.jpg', 'PXD006096-lungcancer-3_10_20+.jpg', 'PXD006096-lungcancer-3_12_5.jpg', 'PXD006096-lungcancer-1_23_16.jpg', 'PXD006096-lungcancer-3_24_7+.jpg', 'PXD006096-lungcancer-3_10_6+.jpg', 'PXD006096-lungcancer-1_21_8.jpg', 'PXD006096-lungcancer-3_34_14.jpg', 'PXD006096-lungcancer-3_16_19+.jpg', 'PXD006096-lungcancer-3_14_8.jpg', 'PXD006096-lungcancer-1_26_10+.jpg', 'PXD006096-lungcancer-3_17_14+.jpg', 'PXD006096-lungcancer-1_14_5+.jpg', 'PXD006096-lungcancer-3_19_15.jpg', 'PXD006096-lungcancer-1_20_21.jpg', 'PXD006096-lungcancer-1_32_11.jpg', 'PXD006096-lungcancer-1_24_14.jpg', 'PXD006096-lungcancer-1_11_6+.jpg', 'PXD006096-lungcancer-3_21_15.jpg', 'PXD006096-lungcancer-1_19_21.jpg', 'PXD006096-lungcancer-3_12_20.jpg', 'PXD006096-lungcancer-1_10_6.jpg', 'PXD006096-lungcancer-3_12_19+.jpg', 'PXD006096-lungcancer-1_26_11.jpg', 'PXD006096-lungcancer-1_31_18.jpg', 'PXD006096-lungcancer-3_21_21+.jpg', 'PXD006096-lungcancer-1_17_15.jpg', 'PXD006096-lungcancer-1_14_12+.jpg', 'PXD006096-lungcancer-3_25_14.jpg', 'PXD006096-lungcancer-1_9_9+.jpg', 'PXD006096-lungcancer-3_23_12.jpg', 'PXD006096-lungcancer-1_23_8+.jpg', 'PXD006096-lungcancer-3_22_21.jpg', 'PXD006096-lungcancer-1_35_16.jpg', 'PXD006096-lungcancer-3_17_11+.jpg', 'PXD006096-lungcancer-1_23_11.jpg', 'PXD006096-lungcancer-1_22_14.jpg', 'PXD006096-lungcancer-1_31_16.jpg', 'PXD006096-lungcancer-1_26_14.jpg', 'PXD006096-lungcancer-1_31_8+.jpg', 'PXD006096-lungcancer-3_25_9.jpg', 'PXD006096-lungcancer-3_13_20.jpg', 'PXD006096-lungcancer-1_20_15.jpg', 'PXD006096-lungcancer-3_18_9+.jpg', 'PXD006096-lungcancer-1_17_9.jpg', 'PXD006096-lungcancer-3_14_19+.jpg', 'PXD006096-lungcancer-1_11_9+.jpg', 'PXD006096-lungcancer-3_29_10.jpg', 'PXD006096-lungcancer-3_22_18.jpg', 'PXD006096-lungcancer-1_21_15.jpg', 'PXD006096-lungcancer-1_18_7+.jpg', 'PXD006096-lungcancer-1_23_18+.jpg', 'PXD006096-lungcancer-1_16_17+.jpg', 'PXD006096-lungcancer-3_11_20.jpg', 'PXD006096-lungcancer-3_28_12+.jpg', 'PXD006096-lungcancer-3_13_6.jpg', 'PXD006096-lungcancer-3_15_21.jpg', 'PXD006096-lungcancer-3_18_20+.jpg', 'PXD006096-lungcancer-1_9_21+.jpg', 'PXD006096-lungcancer-3_18_6+.jpg', 'PXD006096-lungcancer-1_24_11+.jpg', 'PXD006096-lungcancer-1_16_7+.jpg', 'PXD006096-lungcancer-1_17_13.jpg', 'PXD006096-lungcancer-3_13_4+.jpg', 'PXD006096-lungcancer-1_32_11+.jpg', 'PXD006096-lungcancer-1_20_13+.jpg', 'PXD006096-lungcancer-3_16_13.jpg', 'PXD006096-lungcancer-1_17_20+.jpg', 'PXD006096-lungcancer-3_21_20+.jpg', 'PXD006096-lungcancer-1_10_6+.jpg', 'PXD006096-lungcancer-1_16_21+.jpg', 'PXD006096-lungcancer-3_16_11.jpg', 'PXD006096-lungcancer-3_12_9+.jpg', 'PXD006096-lungcancer-3_20_13+.jpg', 'PXD006096-lungcancer-1_19_9+.jpg', 'PXD006096-lungcancer-1_17_10+.jpg', 'PXD006096-lungcancer-1_21_18.jpg', 'PXD006096-lungcancer-3_28_15.jpg', 'PXD006096-lungcancer-3_20_8.jpg', 'PXD006096-lungcancer-1_12_21.jpg', 'PXD006096-lungcancer-3_31_10.jpg', 'PXD006096-lungcancer-3_14_12.jpg', 'PXD006096-lungcancer-1_12_20+.jpg', 'PXD006096-lungcancer-1_19_10+.jpg', 'PXD006096-lungcancer-3_15_13.jpg', 'PXD006096-lungcancer-1_29_13.jpg', 'PXD006096-lungcancer-3_9_5+.jpg', 'PXD006096-lungcancer-3_10_14+.jpg', 'PXD006096-lungcancer-3_16_21+.jpg', 'PXD006096-lungcancer-1_17_14+.jpg', 'PXD006096-lungcancer-1_16_5+.jpg', 'PXD006096-lungcancer-1_12_9+.jpg', 'PXD006096-lungcancer-3_17_8+.jpg', 'PXD006096-lungcancer-1_17_8+.jpg', 'PXD006096-lungcancer-3_20_7+.jpg', 'PXD006096-lungcancer-1_19_8.jpg', 'PXD006096-lungcancer-1_22_9+.jpg', 'PXD006096-lungcancer-3_12_8.jpg', 'PXD006096-lungcancer-3_23_14+.jpg', 'PXD006096-lungcancer-1_20_14.jpg', 'PXD006096-lungcancer-1_23_10.jpg', 'PXD006096-lungcancer-1_33_9+.jpg', 'PXD006096-lungcancer-3_13_9.jpg', 'PXD006096-lungcancer-1_27_14.jpg', 'PXD006096-lungcancer-3_21_10.jpg', 'PXD006096-lungcancer-3_12_20+.jpg', 'PXD006096-lungcancer-3_10_5.jpg', 'PXD006096-lungcancer-3_11_6+.jpg', 'PXD006096-lungcancer-3_21_13.jpg', 'PXD006096-lungcancer-1_15_10.jpg', 'PXD006096-lungcancer-1_16_18.jpg', 'PXD006096-lungcancer-1_16_13.jpg', 'PXD006096-lungcancer-3_23_11.jpg', 'PXD006096-lungcancer-3_17_6+.jpg', 'PXD006096-lungcancer-3_12_6+.jpg', 'PXD006096-lungcancer-1_13_4.jpg', 'PXD006096-lungcancer-3_11_21+.jpg', 'PXD006096-lungcancer-3_11_4+.jpg', 'PXD006096-lungcancer-3_16_7+.jpg', 'PXD006096-lungcancer-1_12_9.jpg', 'PXD006096-lungcancer-3_22_15.jpg', 'PXD006096-lungcancer-1_14_7.jpg', 'PXD006096-lungcancer-3_18_12+.jpg', 'PXD006096-lungcancer-3_9_20.jpg', 'PXD006096-lungcancer-3_23_9.jpg', 'PXD006096-lungcancer-1_17_19+.jpg', 'PXD006096-lungcancer-1_15_10+.jpg', 'PXD006096-lungcancer-3_23_10+.jpg', 'PXD006096-lungcancer-3_24_13+.jpg', 'PXD006096-lungcancer-1_11_21+.jpg', 'PXD006096-lungcancer-1_29_12+.jpg', 'PXD006096-lungcancer-3_13_7+.jpg', 'PXD006096-lungcancer-3_24_21+.jpg', 'PXD006096-lungcancer-3_24_11+.jpg', 'PXD006096-lungcancer-3_19_11+.jpg', 'PXD006096-lungcancer-1_9_21.jpg', 'PXD006096-lungcancer-1_29_10.jpg', 'PXD006096-lungcancer-1_21_10+.jpg', 'PXD006096-lungcancer-3_20_17+.jpg', 'PXD006096-lungcancer-3_14_9+.jpg', 'PXD006096-lungcancer-3_9_20+.jpg', 'PXD006096-lungcancer-1_16_5.jpg', 'PXD006096-lungcancer-3_11_8+.jpg', 'PXD006096-lungcancer-1_13_10+.jpg', 'PXD006096-lungcancer-1_9_20+.jpg', 'PXD006096-lungcancer-3_10_21.jpg', 'PXD006096-lungcancer-1_27_14+.jpg', 'PXD006096-lungcancer-1_18_12+.jpg', 'PXD006096-lungcancer-1_22_14+.jpg', 'PXD006096-lungcancer-3_20_8+.jpg', 'PXD006096-lungcancer-3_13_20+.jpg', 'PXD006096-lungcancer-3_26_15+.jpg', 'PXD006096-lungcancer-3_29_13+.jpg', 'PXD006096-lungcancer-1_9_19+.jpg', 'PXD006096-lungcancer-1_12_7+.jpg', 'PXD006096-lungcancer-1_13_8.jpg', 'PXD006096-lungcancer-3_35_16.jpg', 'PXD006096-lungcancer-1_29_14.jpg', 'PXD006096-lungcancer-1_23_18.jpg', 'PXD006096-lungcancer-1_30_14+.jpg', 'PXD006096-lungcancer-3_24_16.jpg', 'PXD006096-lungcancer-3_14_21+.jpg', 'PXD006096-lungcancer-3_15_21+.jpg', 'PXD006096-lungcancer-1_15_6.jpg', 'PXD006096-lungcancer-3_25_13.jpg', 'PXD006096-lungcancer-1_19_9.jpg', 'PXD006096-lungcancer-1_26_12.jpg', 'PXD006096-lungcancer-3_23_15+.jpg', 'PXD006096-lungcancer-3_15_14+.jpg', 'PXD006096-lungcancer-1_12_4+.jpg', 'PXD006096-lungcancer-1_23_12.jpg', 'PXD006096-lungcancer-3_26_9+.jpg', 'PXD006096-lungcancer-3_16_21.jpg', 'PXD006096-lungcancer-3_12_19.jpg', 'PXD006096-lungcancer-1_13_11.jpg', 'PXD006096-lungcancer-1_19_15.jpg', 'PXD006096-lungcancer-1_15_9.jpg', 'PXD006096-lungcancer-1_22_10.jpg', 'PXD006096-lungcancer-1_26_11+.jpg', 'PXD006096-lungcancer-1_22_18.jpg', 'PXD006096-lungcancer-3_19_21.jpg', 'PXD006096-lungcancer-3_23_8+.jpg', 'PXD006096-lungcancer-3_12_9.jpg', 'PXD006096-lungcancer-1_19_16+.jpg', 'PXD006096-lungcancer-3_12_5+.jpg', 'PXD006096-lungcancer-3_18_6.jpg', 'PXD006096-lungcancer-1_16_20+.jpg', 'PXD006096-lungcancer-1_12_7.jpg', 'PXD006096-lungcancer-1_21_10.jpg', 'PXD006096-lungcancer-1_11_12+.jpg', 'PXD006096-lungcancer-1_29_13+.jpg', 'PXD006096-lungcancer-1_18_13.jpg', 'PXD006096-lungcancer-1_25_11.jpg', 'PXD006096-lungcancer-1_22_13.jpg', 'PXD006096-lungcancer-1_16_19+.jpg', 'PXD006096-lungcancer-3_20_21+.jpg', 'PXD006096-lungcancer-3_23_18+.jpg', 'PXD006096-lungcancer-3_15_12.jpg', 'PXD006096-lungcancer-1_32_14+.jpg', 'PXD006096-lungcancer-3_18_7+.jpg', 'PXD006096-lungcancer-1_15_7+.jpg', 'PXD006096-lungcancer-1_22_18+.jpg', 'PXD006096-lungcancer-1_21_13.jpg', 'PXD006096-lungcancer-1_21_12+.jpg', 'PXD006096-lungcancer-1_12_19.jpg', 'PXD006096-lungcancer-3_14_6.jpg', 'PXD006096-lungcancer-3_21_5.jpg', 'PXD006096-lungcancer-1_23_21+.jpg', 'PXD006096-lungcancer-1_25_21+.jpg', 'PXD006096-lungcancer-3_17_6.jpg', 'PXD006096-lungcancer-3_14_11.jpg', 'PXD006096-lungcancer-3_16_12+.jpg', 'PXD006096-lungcancer-1_19_14.jpg', 'PXD006096-lungcancer-1_24_11.jpg', 'PXD006096-lungcancer-3_28_12.jpg', 'PXD006096-lungcancer-1_21_14.jpg', 'PXD006096-lungcancer-3_14_5+.jpg', 'PXD006096-lungcancer-3_14_15.jpg', 'PXD006096-lungcancer-3_20_18.jpg', 'PXD006096-lungcancer-1_24_12.jpg', 'PXD006096-lungcancer-1_13_8+.jpg', 'PXD006096-lungcancer-3_15_10.jpg', 'PXD006096-lungcancer-1_14_7+.jpg', 'PXD006096-lungcancer-1_24_16.jpg', 'PXD006096-lungcancer-1_18_10.jpg', 'PXD006096-lungcancer-3_11_3+.jpg', 'PXD006096-lungcancer-1_24_10+.jpg', 'PXD006096-lungcancer-3_25_8+.jpg', 'PXD006096-lungcancer-3_23_13.jpg', 'PXD006096-lungcancer-1_17_10.jpg', 'PXD006096-lungcancer-3_26_10.jpg', 'PXD006096-lungcancer-1_15_6+.jpg', 'PXD006096-lungcancer-3_13_8+.jpg', 'PXD006096-lungcancer-1_24_21+.jpg', 'PXD006096-lungcancer-1_25_13+.jpg', 'PXD006096-lungcancer-1_27_15.jpg', 'PXD006096-lungcancer-1_18_12.jpg', 'PXD006096-lungcancer-3_12_21.jpg', 'PXD006096-lungcancer-3_28_14+.jpg', 'PXD006096-lungcancer-1_28_16.jpg', 'PXD006096-lungcancer-1_20_7.jpg', 'PXD006096-lungcancer-3_10_19+.jpg', 'PXD006096-lungcancer-1_14_4.jpg', 'PXD006096-lungcancer-1_20_10+.jpg', 'PXD006096-lungcancer-1_14_8.jpg', 'PXD006096-lungcancer-3_17_9+.jpg', 'PXD006096-lungcancer-1_24_15.jpg', 'PXD006096-lungcancer-1_17_12+.jpg', 'PXD006096-lungcancer-3_9_18+.jpg', 'PXD006096-lungcancer-1_11_6.jpg', 'PXD006096-lungcancer-1_17_8.jpg', 'PXD006096-lungcancer-3_11_7+.jpg', 'PXD006096-lungcancer-1_23_14.jpg', 'PXD006096-lungcancer-1_21_14+.jpg', 'PXD006096-lungcancer-3_12_7.jpg', 'PXD006096-lungcancer-3_27_15.jpg', 'PXD006096-lungcancer-3_23_13+.jpg', 'PXD006096-lungcancer-3_17_9.jpg', 'PXD006096-lungcancer-1_13_20.jpg', 'PXD006096-lungcancer-1_22_9.jpg', 'PXD006096-lungcancer-1_18_19.jpg', 'PXD006096-lungcancer-1_18_5+.jpg', 'PXD006096-lungcancer-1_22_11+.jpg', 'PXD006096-lungcancer-1_20_12.jpg', 'PXD006096-lungcancer-3_11_5+.jpg', 'PXD006096-lungcancer-3_11_21.jpg', 'PXD006096-lungcancer-1_17_13+.jpg', 'PXD006096-lungcancer-1_19_17+.jpg', 'PXD006096-lungcancer-1_18_21.jpg', 'PXD006096-lungcancer-1_19_20.jpg', 'PXD006096-lungcancer-3_28_14.jpg', 'PXD006096-lungcancer-3_13_19+.jpg', 'PXD006096-lungcancer-3_10_3+.jpg', 'PXD006096-lungcancer-1_28_10+.jpg', 'PXD006096-lungcancer-1_34_14+.jpg', 'PXD006096-lungcancer-1_16_13+.jpg', 'PXD006096-lungcancer-1_26_12+.jpg', 'PXD006096-lungcancer-3_21_12+.jpg', 'PXD006096-lungcancer-1_17_21+.jpg', 'PXD006096-lungcancer-3_35_16+.jpg', 'PXD006096-lungcancer-3_31_12+.jpg', 'PXD006096-lungcancer-3_10_10.jpg', 'PXD006096-lungcancer-3_22_10.jpg', 'PXD006096-lungcancer-3_23_19.jpg', 'PXD006096-lungcancer-3_25_17.jpg', 'PXD006096-lungcancer-1_31_18+.jpg', 'PXD006096-lungcancer-3_14_10+.jpg', 'PXD006096-lungcancer-3_31_13.jpg', 'PXD006096-lungcancer-1_23_11+.jpg', 'PXD006096-lungcancer-1_9_5+.jpg', 'PXD006096-lungcancer-3_23_9+.jpg', 'PXD006096-lungcancer-3_16_17+.jpg', 'PXD006096-lungcancer-1_13_21.jpg', 'PXD006096-lungcancer-1_14_14.jpg', 'PXD006096-lungcancer-1_26_16.jpg', 'PXD006096-lungcancer-3_24_7.jpg', 'PXD006096-lungcancer-1_15_13.jpg', 'PXD006096-lungcancer-3_13_10+.jpg', 'PXD006096-lungcancer-1_12_20.jpg', 'PXD006096-lungcancer-3_12_21+.jpg', 'PXD006096-lungcancer-3_18_5+.jpg', 'PXD006096-lungcancer-3_17_19.jpg', 'PXD006096-lungcancer-1_10_3+.jpg', 'PXD006096-lungcancer-3_25_10+.jpg', 'PXD006096-lungcancer-1_20_5+.jpg', 'PXD006096-lungcancer-1_23_17.jpg', 'PXD006096-lungcancer-1_24_13+.jpg', 'PXD006096-lungcancer-3_26_12+.jpg', 'PXD006096-lungcancer-1_35_16+.jpg', 'PXD006096-lungcancer-1_23_19.jpg', 'PXD006096-lungcancer-3_14_8+.jpg', 'PXD006096-lungcancer-3_22_12+.jpg', 'PXD006096-lungcancer-3_33_9+.jpg', 'PXD006096-lungcancer-1_13_7+.jpg', 'PXD006096-lungcancer-1_19_8+.jpg', 'PXD006096-lungcancer-1_24_10.jpg', 'PXD006096-lungcancer-3_16_10.jpg', 'PXD006096-lungcancer-1_26_15+.jpg', 'PXD006096-lungcancer-1_22_21+.jpg', 'PXD006096-lungcancer-3_15_5.jpg', 'PXD006096-lungcancer-1_13_19+.jpg', 'PXD006096-lungcancer-3_15_15.jpg', 'PXD006096-lungcancer-1_15_19+.jpg', 'PXD006096-lungcancer-1_20_8+.jpg', 'PXD006096-lungcancer-1_28_13+.jpg', 'PXD006096-lungcancer-3_10_4+.jpg', 'PXD006096-lungcancer-1_26_15.jpg', 'PXD006096-lungcancer-3_19_7+.jpg', 'PXD006096-lungcancer-1_13_7.jpg', 'PXD006096-lungcancer-1_23_15+.jpg', 'PXD006096-lungcancer-3_15_20+.jpg', 'PXD006096-lungcancer-3_15_5+.jpg', 'PXD006096-lungcancer-3_24_12+.jpg', 'PXD006096-lungcancer-1_11_21.jpg', 'PXD006096-lungcancer-1_15_5.jpg', 'PXD006096-lungcancer-1_19_14+.jpg', 'PXD006096-lungcancer-1_17_21.jpg', 'PXD006096-lungcancer-3_24_12.jpg', 'PXD006096-lungcancer-3_10_20.jpg', 'PXD006096-lungcancer-3_19_8.jpg', 'PXD006096-lungcancer-1_20_5.jpg', 'PXD006096-lungcancer-3_27_14.jpg', 'PXD006096-lungcancer-3_19_4+.jpg', 'PXD006096-lungcancer-3_23_16.jpg', 'PXD006096-lungcancer-3_13_21.jpg', 'PXD006096-lungcancer-1_14_20+.jpg', 'PXD006096-lungcancer-1_10_9+.jpg', 'PXD006096-lungcancer-1_21_12.jpg', 'PXD006096-lungcancer-1_11_7+.jpg', 'PXD006096-lungcancer-3_33_10.jpg', 'PXD006096-lungcancer-3_23_18.jpg', 'PXD006096-lungcancer-1_14_21.jpg', 'PXD006096-lungcancer-3_10_6.jpg', 'PXD006096-lungcancer-3_9_21.jpg', 'PXD006096-lungcancer-3_24_17+.jpg', 'PXD006096-lungcancer-3_11_7.jpg', 'PXD006096-lungcancer-3_10_5+.jpg', 'PXD006096-lungcancer-1_23_14+.jpg', 'PXD006096-lungcancer-1_19_10.jpg', 'PXD006096-lungcancer-1_23_13.jpg', 'PXD006096-lungcancer-3_22_14.jpg', 'PXD006096-lungcancer-1_11_9.jpg', 'PXD006096-lungcancer-3_19_19+.jpg', 'PXD006096-lungcancer-3_20_14+.jpg', 'PXD006096-lungcancer-3_11_9+.jpg', 'PXD006096-lungcancer-1_15_7.jpg', 'PXD006096-lungcancer-3_9_9+.jpg', 'PXD006096-lungcancer-3_16_9+.jpg', 'PXD006096-lungcancer-3_13_19.jpg', 'PXD006096-lungcancer-1_24_17+.jpg', 'PXD006096-lungcancer-1_13_19.jpg', 'PXD006096-lungcancer-1_16_10+.jpg', 'PXD006096-lungcancer-1_35_15+.jpg', 'PXD006096-lungcancer-3_19_21+.jpg', 'PXD006096-lungcancer-3_20_20+.jpg', 'PXD006096-lungcancer-1_15_15.jpg', 'PXD006096-lungcancer-3_16_8.jpg', 'PXD006096-lungcancer-1_22_21.jpg', 'PXD006096-lungcancer-3_18_7.jpg', 'PXD006096-lungcancer-3_23_16+.jpg', 'PXD006096-lungcancer-1_15_8+.jpg', 'PXD006096-lungcancer-3_20_10.jpg', 'PXD006096-lungcancer-1_18_11+.jpg', 'PXD006096-lungcancer-1_21_7.jpg', 'PXD006096-lungcancer-1_9_19.jpg', 'PXD006096-lungcancer-1_13_20+.jpg', 'PXD006096-lungcancer-3_26_13.jpg', 'PXD006096-lungcancer-1_19_11+.jpg', 'PXD006096-lungcancer-1_23_15.jpg', 'PXD006096-lungcancer-3_25_21+.jpg', 'PXD006096-lungcancer-1_16_21.jpg', 'PXD006096-lungcancer-3_11_12.jpg', 'PXD006096-lungcancer-1_18_20+.jpg', 'PXD006096-lungcancer-1_29_9+.jpg', 'PXD006096-lungcancer-3_11_20+.jpg', 'PXD006096-lungcancer-3_31_18.jpg', 'PXD006096-lungcancer-1_32_18.jpg', 'PXD006096-lungcancer-3_19_12+.jpg', 'PXD006096-lungcancer-3_28_10.jpg', 'PXD006096-lungcancer-1_16_10.jpg', 'PXD006096-lungcancer-1_25_16+.jpg', 'PXD006096-lungcancer-3_17_20.jpg', 'PXD006096-lungcancer-3_18_13.jpg', 'PXD006096-lungcancer-3_13_7.jpg', 'PXD006096-lungcancer-1_20_7+.jpg', 'PXD006096-lungcancer-1_18_8+.jpg', 'PXD006096-lungcancer-1_20_10.jpg', 'PXD006096-lungcancer-3_26_14.jpg', 'PXD006096-lungcancer-3_18_20.jpg', 'PXD006096-lungcancer-3_18_8+.jpg', 'PXD006096-lungcancer-1_10_19+.jpg', 'PXD006096-lungcancer-1_13_11+.jpg', 'PXD006096-lungcancer-3_9_21+.jpg', 'PXD006096-lungcancer-1_21_7+.jpg', 'PXD006096-lungcancer-1_10_7.jpg', 'PXD006096-lungcancer-1_31_12+.jpg', 'PXD006096-lungcancer-1_12_11+.jpg', 'PXD006096-lungcancer-3_14_9.jpg', 'PXD006096-lungcancer-1_22_15.jpg', 'PXD006096-lungcancer-3_21_12.jpg', 'PXD006096-lungcancer-1_18_11.jpg', 'PXD006096-lungcancer-1_24_18.jpg', 'PXD006096-lungcancer-3_18_21+.jpg', 'PXD006096-lungcancer-1_15_13+.jpg', 'PXD006096-lungcancer-1_20_18.jpg', 'PXD006096-lungcancer-1_18_21+.jpg', 'PXD006096-lungcancer-3_16_8+.jpg', 'PXD006096-lungcancer-1_11_7.jpg', 'PXD006096-lungcancer-3_26_14+.jpg', 'PXD006096-lungcancer-1_23_21.jpg', 'PXD006096-lungcancer-3_22_13.jpg', 'PXD006096-lungcancer-3_16_10+.jpg', 'PXD006096-lungcancer-3_31_9+.jpg', 'PXD006096-lungcancer-1_17_11+.jpg', 'PXD006096-lungcancer-1_15_12.jpg', 'PXD006096-lungcancer-1_23_16+.jpg', 'PXD006096-lungcancer-1_16_9+.jpg', 'PXD006096-lungcancer-3_17_14.jpg', 'PXD006096-lungcancer-3_22_12.jpg', 'PXD006096-lungcancer-1_22_20+.jpg', 'PXD006096-lungcancer-3_26_15.jpg', 'PXD006096-lungcancer-1_25_8+.jpg', 'PXD006096-lungcancer-3_23_11+.jpg', 'PXD006096-lungcancer-1_15_20.jpg', 'PXD006096-lungcancer-3_18_10.jpg', 'PXD006096-lungcancer-1_16_12+.jpg', 'PXD006096-lungcancer-1_18_7.jpg', 'PXD006096-lungcancer-3_24_13.jpg', 'PXD006096-lungcancer-1_16_20.jpg', 'PXD006096-lungcancer-1_29_15+.jpg', 'PXD006096-lungcancer-1_20_6+.jpg', 'PXD006096-lungcancer-1_21_9+.jpg', 'PXD006096-lungcancer-1_10_4.jpg', 'PXD006096-lungcancer-1_15_9+.jpg', 'PXD006096-lungcancer-1_13_5+.jpg', 'PXD006096-lungcancer-1_10_5.jpg', 'PXD006096-lungcancer-3_17_11.jpg', 'PXD006096-lungcancer-3_14_20.jpg', 'PXD006096-lungcancer-1_25_13.jpg', 'PXD006096-lungcancer-1_31_15+.jpg', 'PXD006096-lungcancer-1_11_4.jpg', 'PXD006096-lungcancer-1_12_5.jpg', 'PXD006096-lungcancer-3_20_10+.jpg', 'PXD006096-lungcancer-1_17_12.jpg', 'PXD006096-lungcancer-3_23_14.jpg', 'PXD006096-lungcancer-3_15_12+.jpg']\n"
     ]
    }
   ],
   "source": [
    "import os\n",
    "# train_names = os.listdir('train')\n",
    "print(val_names)"
   ],
   "metadata": {
    "collapsed": false,
    "pycharm": {
     "name": "#%%\n"
    }
   }
  },
  {
   "cell_type": "code",
   "execution_count": 6,
   "outputs": [
    {
     "name": "stderr",
     "output_type": "stream",
     "text": [
      "/var/folders/cf/r34h876n3jg586yglbfm8ds40000gn/T/ipykernel_98363/1451104213.py:9: FutureWarning: The frame.append method is deprecated and will be removed from pandas in a future version. Use pandas.concat instead.\n",
      "  df = df.append(tmp)\n",
      "/var/folders/cf/r34h876n3jg586yglbfm8ds40000gn/T/ipykernel_98363/1451104213.py:9: FutureWarning: The frame.append method is deprecated and will be removed from pandas in a future version. Use pandas.concat instead.\n",
      "  df = df.append(tmp)\n",
      "/var/folders/cf/r34h876n3jg586yglbfm8ds40000gn/T/ipykernel_98363/1451104213.py:9: FutureWarning: The frame.append method is deprecated and will be removed from pandas in a future version. Use pandas.concat instead.\n",
      "  df = df.append(tmp)\n",
      "/var/folders/cf/r34h876n3jg586yglbfm8ds40000gn/T/ipykernel_98363/1451104213.py:9: FutureWarning: The frame.append method is deprecated and will be removed from pandas in a future version. Use pandas.concat instead.\n",
      "  df = df.append(tmp)\n",
      "/var/folders/cf/r34h876n3jg586yglbfm8ds40000gn/T/ipykernel_98363/1451104213.py:9: FutureWarning: The frame.append method is deprecated and will be removed from pandas in a future version. Use pandas.concat instead.\n",
      "  df = df.append(tmp)\n",
      "/var/folders/cf/r34h876n3jg586yglbfm8ds40000gn/T/ipykernel_98363/1451104213.py:9: FutureWarning: The frame.append method is deprecated and will be removed from pandas in a future version. Use pandas.concat instead.\n",
      "  df = df.append(tmp)\n",
      "/var/folders/cf/r34h876n3jg586yglbfm8ds40000gn/T/ipykernel_98363/1451104213.py:9: FutureWarning: The frame.append method is deprecated and will be removed from pandas in a future version. Use pandas.concat instead.\n",
      "  df = df.append(tmp)\n",
      "/var/folders/cf/r34h876n3jg586yglbfm8ds40000gn/T/ipykernel_98363/1451104213.py:9: FutureWarning: The frame.append method is deprecated and will be removed from pandas in a future version. Use pandas.concat instead.\n",
      "  df = df.append(tmp)\n",
      "10271it [00:00, 13877.53it/s]\n"
     ]
    }
   ],
   "source": [
    "from tqdm import tqdm\n",
    "import pandas as pd\n",
    "df = pd.DataFrame()\n",
    "for file in os.listdir('annotations'):\n",
    "    if file == '.DS_Store':\n",
    "        continue\n",
    "    file = 'annotations/' + file\n",
    "    tmp = pd.read_csv(file)\n",
    "    df = df.append(tmp)\n",
    "train_labels, validation = [], []\n",
    "for _, row in tqdm(df.iterrows()):\n",
    "    name = row[0]\n",
    "    if name == 'filename':\n",
    "        continue\n",
    "    if name in train_names:\n",
    "        train_labels.append(row)\n",
    "    elif name in val_names:\n",
    "        validation.append(row)\n",
    "train_labels = pd.DataFrame(train_labels, columns=['filename','width','height','class','xmin','ymin','xmax','ymax'])\n",
    "validation = pd.DataFrame(validation, columns=['filename','width','height','class','xmin','ymin','xmax','ymax'])\n",
    "train_labels.to_csv('train_labels.csv', index=False)\n",
    "validation.to_csv('validation.csv', index=False)"
   ],
   "metadata": {
    "collapsed": false,
    "pycharm": {
     "name": "#%%\n"
    }
   }
  },
  {
   "cell_type": "code",
   "execution_count": 7,
   "outputs": [
    {
     "name": "stdout",
     "output_type": "stream",
     "text": [
      "PXD010357-lungcancer-19 261\n",
      "PXD010357-lungcancer-20 1517\n",
      "B20190306xiangn_CRCD_DIA_b3_3 0\n",
      "PXD004684-lungcancer-296-2 1516\n",
      "PXD010357-lungcancer-Huara 1634\n",
      "PXD006096-lungcancer-2 1347\n",
      "PXD006096-lungcancer-3 1121\n",
      "PXD006096-lungcancer-1 1340\n"
     ]
    }
   ],
   "source": [
    "import os\n",
    "l = [e.split('_')[0] for e in df['filename']]\n",
    "for f in os.listdir('img1'):\n",
    "    f = f.split('.')[0]\n",
    "    print(f, l.count(f))"
   ],
   "metadata": {
    "collapsed": false,
    "pycharm": {
     "name": "#%%\n"
    }
   }
  },
  {
   "cell_type": "code",
   "execution_count": null,
   "outputs": [],
   "source": [],
   "metadata": {
    "collapsed": false,
    "pycharm": {
     "name": "#%%\n"
    }
   }
  }
 ],
 "metadata": {
  "kernelspec": {
   "display_name": "Python 3",
   "language": "python",
   "name": "python3"
  },
  "language_info": {
   "codemirror_mode": {
    "name": "ipython",
    "version": 2
   },
   "file_extension": ".py",
   "mimetype": "text/x-python",
   "name": "python",
   "nbconvert_exporter": "python",
   "pygments_lexer": "ipython2",
   "version": "2.7.6"
  }
 },
 "nbformat": 4,
 "nbformat_minor": 0
}